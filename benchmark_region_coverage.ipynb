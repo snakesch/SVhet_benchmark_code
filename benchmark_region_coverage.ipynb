{
 "cells": [
  {
   "cell_type": "code",
   "execution_count": 17,
   "id": "34d24c80",
   "metadata": {},
   "outputs": [
    {
     "name": "stdout",
     "output_type": "stream",
     "text": [
      "Benchmark coverage: 86.0%\n"
     ]
    }
   ],
   "source": [
    "import pandas as pd\n",
    "\n",
    "reference = \"/group/paed_yangwl/hs37d5/hs37d5.fa.fai\"\n",
    "benchmark = \"/lustre1/g/paed_yangwl/snakesch/data/svhet2/HG002/structural_variants/benchmark_data/NIST_SVs_Integration_v0.6/HG002_SVs_Tier1_v0.6.bed\"\n",
    "\n",
    "reference_df = pd.read_csv(reference, sep=\"\\s+\", header=None)\n",
    "benchmark_df = pd.read_csv(benchmark, sep=\"\\s+\", header=None)\n",
    "\n",
    "bench_coverage = (benchmark_df[2] - benchmark_df[1]).sum()\n",
    "reference_coverage = reference_df.loc[reference_df[0].isin(benchmark_df[0].unique()), 1].sum()\n",
    "\n",
    "pct_coverage = bench_coverage / reference_coverage * 100\n",
    "print(f\"Benchmark coverage: {pct_coverage:.1f}%\")\n"
   ]
  }
 ],
 "metadata": {
  "kernelspec": {
   "display_name": "svhet_benchmark",
   "language": "python",
   "name": "python3"
  },
  "language_info": {
   "codemirror_mode": {
    "name": "ipython",
    "version": 3
   },
   "file_extension": ".py",
   "mimetype": "text/x-python",
   "name": "python",
   "nbconvert_exporter": "python",
   "pygments_lexer": "ipython3",
   "version": "3.11.11"
  }
 },
 "nbformat": 4,
 "nbformat_minor": 5
}
